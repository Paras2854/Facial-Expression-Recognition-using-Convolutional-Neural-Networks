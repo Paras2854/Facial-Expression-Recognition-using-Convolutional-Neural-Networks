{
  "nbformat": 4,
  "nbformat_minor": 0,
  "metadata": {
    "colab": {
      "name": "fer.ipynb",
      "provenance": [],
      "collapsed_sections": []
    },
    "kernelspec": {
      "name": "python3",
      "display_name": "Python 3"
    },
    "accelerator": "GPU"
  },
  "cells": [
    {
      "cell_type": "code",
      "metadata": {
        "id": "zKO56ld6xD5d",
        "colab_type": "code",
        "outputId": "edcc58b8-96ea-4361-8d60-5e677e362941",
        "colab": {
          "base_uri": "https://localhost:8080/",
          "height": 122
        }
      },
      "source": [
        "from google.colab import drive\n",
        "drive.mount('/content/drive')"
      ],
      "execution_count": 0,
      "outputs": [
        {
          "output_type": "stream",
          "text": [
            "Go to this URL in a browser: https://accounts.google.com/o/oauth2/auth?client_id=947318989803-6bn6qk8qdgf4n4g3pfee6491hc0brc4i.apps.googleusercontent.com&redirect_uri=urn%3aietf%3awg%3aoauth%3a2.0%3aoob&response_type=code&scope=email%20https%3a%2f%2fwww.googleapis.com%2fauth%2fdocs.test%20https%3a%2f%2fwww.googleapis.com%2fauth%2fdrive%20https%3a%2f%2fwww.googleapis.com%2fauth%2fdrive.photos.readonly%20https%3a%2f%2fwww.googleapis.com%2fauth%2fpeopleapi.readonly\n",
            "\n",
            "Enter your authorization code:\n",
            "··········\n",
            "Mounted at /content/drive\n"
          ],
          "name": "stdout"
        }
      ]
    },
    {
      "cell_type": "code",
      "metadata": {
        "id": "1tQWV0Ghxf6L",
        "colab_type": "code",
        "outputId": "a9e8c41c-0eb5-411c-baaf-7ece5d63b650",
        "colab": {
          "base_uri": "https://localhost:8080/",
          "height": 34
        }
      },
      "source": [
        "!ls"
      ],
      "execution_count": 0,
      "outputs": [
        {
          "output_type": "stream",
          "text": [
            "drive  sample_data\n"
          ],
          "name": "stdout"
        }
      ]
    },
    {
      "cell_type": "markdown",
      "metadata": {
        "id": "Un1bL8W0xnnV",
        "colab_type": "text"
      },
      "source": [
        ""
      ]
    },
    {
      "cell_type": "code",
      "metadata": {
        "id": "StfG0lDlxODA",
        "colab_type": "code",
        "outputId": "bec8cfa7-8e08-4603-ee3d-1c0336b1e1be",
        "colab": {
          "base_uri": "https://localhost:8080/",
          "height": 51
        }
      },
      "source": [
        "!ls\n",
        "%cd /content/drive/My Drive"
      ],
      "execution_count": 0,
      "outputs": [
        {
          "output_type": "stream",
          "text": [
            "drive  sample_data\n",
            "/content/drive/My Drive\n"
          ],
          "name": "stdout"
        }
      ]
    },
    {
      "cell_type": "code",
      "metadata": {
        "id": "P1vqcVVBxxTu",
        "colab_type": "code",
        "outputId": "63c542bf-56f2-47b4-9e14-7c4435b07473",
        "colab": {
          "base_uri": "https://localhost:8080/",
          "height": 51
        }
      },
      "source": [
        "!ls"
      ],
      "execution_count": 0,
      "outputs": [
        {
          "output_type": "stream",
          "text": [
            " beach.jpg\t    Dogs-Vs-Cats-Kaggle  'Getting started.pdf'\n",
            "'Colab Notebooks'   first.ipynb\n"
          ],
          "name": "stdout"
        }
      ]
    },
    {
      "cell_type": "code",
      "metadata": {
        "id": "3G0qxX7a_YxL",
        "colab_type": "code",
        "outputId": "ef72d9fe-ef87-4a9f-e5e7-210e3bacd0ab",
        "colab": {
          "base_uri": "https://localhost:8080/",
          "height": 102
        }
      },
      "source": [
        "!git clone https://github.com/gitshanks/fer2013.git"
      ],
      "execution_count": 0,
      "outputs": [
        {
          "output_type": "stream",
          "text": [
            "Cloning into 'fer2013'...\n",
            "remote: Enumerating objects: 152, done.\u001b[K\n",
            "remote: Total 152 (delta 0), reused 0 (delta 0), pack-reused 152\u001b[K\n",
            "Receiving objects: 100% (152/152), 22.46 MiB | 15.84 MiB/s, done.\n",
            "Resolving deltas: 100% (78/78), done.\n"
          ],
          "name": "stdout"
        }
      ]
    },
    {
      "cell_type": "code",
      "metadata": {
        "id": "r_s3kHN__nf_",
        "colab_type": "code",
        "outputId": "8b340cff-dc7a-4c56-dbda-2c533c22811a",
        "colab": {
          "base_uri": "https://localhost:8080/",
          "height": 51
        }
      },
      "source": [
        "!ls"
      ],
      "execution_count": 0,
      "outputs": [
        {
          "output_type": "stream",
          "text": [
            " beach.jpg\t    Dogs-Vs-Cats-Kaggle   first.ipynb\n",
            "'Colab Notebooks'   fer2013\t\t 'Getting started.pdf'\n"
          ],
          "name": "stdout"
        }
      ]
    },
    {
      "cell_type": "code",
      "metadata": {
        "id": "IZboGtBo_xJl",
        "colab_type": "code",
        "outputId": "3529fcaf-ffeb-4c8c-d4bd-4409b0e59fd4",
        "colab": {
          "base_uri": "https://localhost:8080/",
          "height": 153
        }
      },
      "source": [
        "%cd fer2013\n",
        "!ls"
      ],
      "execution_count": 0,
      "outputs": [
        {
          "output_type": "stream",
          "text": [
            "/content/drive/My Drive/fer2013\n",
            "confmatrix.py\t     fertestcustom.py\t\t\t  predy.npy\n",
            "confusionmatrix.png  fertest.py\t\t\t\t  preprocessing.py\n",
            "Expressions\t     fertrain.py\t\t\t  README.md\n",
            "fdataX.npy\t     flabels.npy\t\t\t  test.jpg\n",
            "fer2013.csv\t     haarcascade_frontalface_default.xml  truey.npy\n",
            "fer.h5\t\t     modXtest.npy\n",
            "fer.json\t     modytest.npy\n"
          ],
          "name": "stdout"
        }
      ]
    },
    {
      "cell_type": "code",
      "metadata": {
        "id": "_WVvWOv__2tO",
        "colab_type": "code",
        "outputId": "b1911763-1199-44e5-f15f-f41358fa7c7d",
        "colab": {
          "base_uri": "https://localhost:8080/",
          "height": 102
        }
      },
      "source": [
        "\n",
        "import numpy as np\n",
        "import warnings\n",
        "import pandas as pd\n",
        "warnings.filterwarnings(\"ignore\")\n",
        "\n",
        "data = pd.read_csv('fer2013.csv')\n",
        "\n",
        "width, height = 48, 48\n",
        "\n",
        "datapoints = data['pixels'].tolist()\n",
        "\n",
        "#getting features for training\n",
        "X = []\n",
        "for xseq in datapoints:\n",
        "    xx = [int(xp) for xp in xseq.split(' ')]\n",
        "    xx = np.asarray(xx).reshape(width, height)\n",
        "    X.append(xx.astype('float32'))\n",
        "\n",
        "X = np.asarray(X)\n",
        "X = np.expand_dims(X, -1)\n",
        "\n",
        "#getting labels for training\n",
        "y = pd.get_dummies(data['emotion']).as_matrix()\n",
        "\n",
        "#storing them using numpy\n",
        "np.save('fdataX', X)\n",
        "np.save('flabels', y)\n",
        "\n",
        "print(\"Preprocessing Done\")\n",
        "print(\"Number of Features: \"+str(len(X[0])))\n",
        "print(\"Number of Labels: \"+ str(len(y[0])))\n",
        "print(\"Number of examples in dataset:\"+str(len(X)))\n",
        "print(\"X,y stored in fdataX.npy and flabels.npy respectively\")"
      ],
      "execution_count": 0,
      "outputs": [
        {
          "output_type": "stream",
          "text": [
            "Preprocessing Done\n",
            "Number of Features: 48\n",
            "Number of Labels: 7\n",
            "Number of examples in dataset:35887\n",
            "X,y stored in fdataX.npy and flabels.npy respectively\n"
          ],
          "name": "stdout"
        }
      ]
    },
    {
      "cell_type": "code",
      "metadata": {
        "id": "Axm-51sVDQYU",
        "colab_type": "code",
        "outputId": "23bf4d0b-6a28-4d5c-fa8d-72fe0f226501",
        "colab": {
          "base_uri": "https://localhost:8080/",
          "height": 153
        }
      },
      "source": [
        "import sys, os\n",
        "import pandas as pd\n",
        "import numpy as np\n",
        "from sklearn.model_selection import train_test_split\n",
        "from keras.models import Sequential\n",
        "from keras.layers import Dense, Dropout, Activation, Flatten\n",
        "from keras.layers import Conv2D, MaxPooling2D, BatchNormalization\n",
        "from keras.losses import categorical_crossentropy\n",
        "from keras.optimizers import Adam\n",
        "from keras.regularizers import l2\n",
        "from keras.callbacks import ReduceLROnPlateau, TensorBoard, EarlyStopping, ModelCheckpoint\n",
        "from keras.models import load_model\n",
        "from keras.models import model_from_json\n",
        "\n",
        "\n",
        "num_features = 64\n",
        "num_labels = 7\n",
        "batch_size = 64\n",
        "epochs = 100\n",
        "width, height = 48, 48\n",
        "\n",
        "x = np.load('./fdataX.npy')\n",
        "y = np.load('./flabels.npy')\n",
        "\n",
        "x -= np.mean(x, axis=0)\n",
        "x /= np.std(x, axis=0)\n",
        "\n",
        "#for xx in range(10):\n",
        "#    plt.figure(xx)\n",
        "#    plt.imshow(x[xx].reshape((48, 48)), interpolation='none', cmap='gray')\n",
        "#plt.show()\n",
        "\n",
        "#splitting into training, validation and testing data\n",
        "X_train, X_test, y_train, y_test = train_test_split(x, y, test_size=0.1, random_state=42)\n",
        "X_train, X_valid, y_train, y_valid = train_test_split(X_train, y_train, test_size=0.1, random_state=41)\n",
        "\n",
        "#saving the test samples to be used later\n",
        "np.save('modXtest', X_test)\n",
        "np.save('modytest', y_test)\n",
        "\n",
        "#desinging the CNN\n",
        "model = Sequential()\n",
        "\n",
        "model.add(Conv2D(num_features, kernel_size=(3, 3), activation='relu', input_shape=(width, height, 1), data_format='channels_last', kernel_regularizer=l2(0.01)))\n",
        "model.add(Conv2D(num_features, kernel_size=(3, 3), activation='relu', padding='same'))\n",
        "model.add(BatchNormalization())\n",
        "model.add(MaxPooling2D(pool_size=(2, 2), strides=(2, 2)))\n",
        "model.add(Dropout(0.5))\n",
        "\n",
        "model.add(Conv2D(2*num_features, kernel_size=(3, 3), activation='relu', padding='same'))\n",
        "model.add(BatchNormalization())\n",
        "model.add(Conv2D(2*num_features, kernel_size=(3, 3), activation='relu', padding='same'))\n",
        "model.add(BatchNormalization())\n",
        "model.add(MaxPooling2D(pool_size=(2, 2), strides=(2, 2)))\n",
        "model.add(Dropout(0.5))\n",
        "\n",
        "model.add(Conv2D(2*2*num_features, kernel_size=(3, 3), activation='relu', padding='same'))\n",
        "model.add(BatchNormalization())\n",
        "model.add(Conv2D(2*2*num_features, kernel_size=(3, 3), activation='relu', padding='same'))\n",
        "model.add(BatchNormalization())\n",
        "model.add(MaxPooling2D(pool_size=(2, 2), strides=(2, 2)))\n",
        "model.add(Dropout(0.5))\n",
        "\n",
        "model.add(Conv2D(2*2*2*num_features, kernel_size=(3, 3), activation='relu', padding='same'))\n",
        "model.add(BatchNormalization())\n",
        "model.add(Conv2D(2*2*2*num_features, kernel_size=(3, 3), activation='relu', padding='same'))\n",
        "model.add(BatchNormalization())\n",
        "model.add(MaxPooling2D(pool_size=(2, 2), strides=(2, 2)))\n",
        "model.add(Dropout(0.5))\n",
        "\n",
        "model.add(Flatten())\n",
        "\n",
        "model.add(Dense(2*2*2*num_features, activation='relu'))\n",
        "model.add(Dropout(0.4))\n",
        "model.add(Dense(2*2*num_features, activation='relu'))\n",
        "model.add(Dropout(0.4))\n",
        "model.add(Dense(2*num_features, activation='relu'))\n",
        "model.add(Dropout(0.5))\n",
        "\n",
        "model.add(Dense(num_labels, activation='softmax'))\n",
        "\n",
        "#model.summary()\n",
        "\n",
        "#Compliling the model with adam optimixer and categorical crossentropy loss\n",
        "model.compile(loss=categorical_crossentropy,\n",
        "              optimizer=Adam(lr=0.001, beta_1=0.9, beta_2=0.999, epsilon=1e-7),\n",
        "              metrics=['accuracy'])\n",
        "\n",
        "#training the model\n",
        "model.fit(np.array(X_train), np.array(y_train),\n",
        "          batch_size=batch_size,\n",
        "          epochs=3,\n",
        "          verbose=1,\n",
        "          validation_data=(np.array(X_valid), np.array(y_valid)),\n",
        "          shuffle=True)\n",
        "\n",
        "#saving the  model to be used later\n",
        "fer_json = model.to_json()\n",
        "with open(\"fer.json\", \"w\") as json_file:\n",
        "    json_file.write(fer_json)\n",
        "model.save_weights(\"fer.h5\")\n",
        "print(\"Saved model to disk\")"
      ],
      "execution_count": 0,
      "outputs": [
        {
          "output_type": "stream",
          "text": [
            "Train on 29068 samples, validate on 3230 samples\n",
            "Epoch 1/3\n",
            "29068/29068 [==============================] - 27s 932us/step - loss: 2.0031 - acc: 0.2134 - val_loss: 1.8246 - val_acc: 0.2594\n",
            "Epoch 2/3\n",
            "29068/29068 [==============================] - 25s 870us/step - loss: 1.8343 - acc: 0.2446 - val_loss: 1.7689 - val_acc: 0.2675\n",
            "Epoch 3/3\n",
            "29068/29068 [==============================] - 26s 883us/step - loss: 1.7556 - acc: 0.2856 - val_loss: 1.6592 - val_acc: 0.3266\n",
            "Saved model to disk\n"
          ],
          "name": "stdout"
        }
      ]
    },
    {
      "cell_type": "code",
      "metadata": {
        "id": "dP5fmcCND-0u",
        "colab_type": "code",
        "outputId": "a410d245-df72-4e8a-dfe8-8552ab37706b",
        "colab": {
          "base_uri": "https://localhost:8080/",
          "height": 68
        }
      },
      "source": [
        "# load json and create model\n",
        "from __future__ import division\n",
        "from keras.models import Sequential\n",
        "from keras.layers import Dense\n",
        "from keras.models import model_from_json\n",
        "import numpy\n",
        "import os\n",
        "import numpy as np\n",
        "\n",
        "json_file = open('fer.json', 'r')\n",
        "loaded_model_json = json_file.read()\n",
        "json_file.close()\n",
        "loaded_model = model_from_json(loaded_model_json)\n",
        "# load weights into new model\n",
        "loaded_model.load_weights(\"fer.h5\")\n",
        "print(\"Loaded model from disk\")\n",
        "\n",
        "truey=[]\n",
        "predy=[]\n",
        "x = np.load('./modXtest.npy')\n",
        "y = np.load('./modytest.npy')\n",
        "\n",
        "yhat= loaded_model.predict(x)\n",
        "yh = yhat.tolist()\n",
        "yt = y.tolist()\n",
        "count = 0\n",
        "\n",
        "for i in range(len(y)):\n",
        "    yy = max(yh[i])\n",
        "    yyt = max(yt[i])\n",
        "    predy.append(yh[i].index(yy))\n",
        "    truey.append(yt[i].index(yyt))\n",
        "    if(yh[i].index(yy)== yt[i].index(yyt)):\n",
        "        count+=1\n",
        "\n",
        "acc = (count/len(y))*100\n",
        "\n",
        "#saving values for confusion matrix and analysis\n",
        "np.save('truey', truey)\n",
        "np.save('predy', predy)\n",
        "print(\"Predicted and true label values saved\")\n",
        "print(\"Accuracy on test set :\"+str(acc)+\"%\")\n"
      ],
      "execution_count": 0,
      "outputs": [
        {
          "output_type": "stream",
          "text": [
            "Loaded model from disk\n",
            "Predicted and true label values saved\n",
            "Accuracy on test set :30.56561716355531%\n"
          ],
          "name": "stdout"
        }
      ]
    },
    {
      "cell_type": "code",
      "metadata": {
        "id": "xK0AkVk3Et1o",
        "colab_type": "code",
        "outputId": "efed0fce-07eb-424c-b316-091c1bd15081",
        "colab": {
          "base_uri": "https://localhost:8080/",
          "height": 416
        }
      },
      "source": [
        "import itertools\n",
        "import numpy as np\n",
        "import matplotlib.pyplot as plt\n",
        "from sklearn.metrics import confusion_matrix\n",
        "\n",
        "y_true = np.load('./truey.npy')\n",
        "y_pred = np.load('./predy.npy')\n",
        "cm = confusion_matrix(y_true, y_pred)\n",
        "labels = ['Angry', 'Disgust', 'Fear', 'Happy', 'Sad', 'Surprise', 'Neutral']\n",
        "title='Confusion matrix'\n",
        "print(cm)\n",
        "\n",
        "plt.imshow(cm, interpolation='nearest', cmap=plt.cm.Blues)\n",
        "plt.title(title)\n",
        "plt.colorbar()\n",
        "tick_marks = np.arange(len(labels))\n",
        "plt.xticks(tick_marks, labels, rotation=45)\n",
        "plt.yticks(tick_marks, labels)\n",
        "fmt = 'd'\n",
        "thresh = cm.max() / 2.\n",
        "for i, j in itertools.product(range(cm.shape[0]), range(cm.shape[1])):\n",
        "    plt.text(j, i, format(cm[i, j], fmt),\n",
        "            horizontalalignment=\"center\",\n",
        "            color=\"white\" if cm[i, j] > thresh else \"black\")\n",
        "\n",
        "plt.ylabel('True label')\n",
        "plt.xlabel('Predicted label')\n",
        "plt.tight_layout()\n",
        "plt.show()"
      ],
      "execution_count": 0,
      "outputs": [
        {
          "output_type": "stream",
          "text": [
            "[[  0   0  39 390   0  69   0]\n",
            " [  0   0   8  35   0   9   0]\n",
            " [  0   0  37 350   0 158   0]\n",
            " [  0   0  36 789   0  56   0]\n",
            " [  0   0  40 504   0  44   0]\n",
            " [  0   0  31 112   0 271   0]\n",
            " [  0   0  46 512   0  53   0]]\n"
          ],
          "name": "stdout"
        },
        {
          "output_type": "display_data",
          "data": {
            "image/png": "[encoded data removed]",
            "text/plain": [
              "<Figure size 432x288 with 2 Axes>"
            ]
          },
          "metadata": {
            "tags": []
          }
        }
      ]
    },
    {
      "cell_type": "code",
      "metadata": {
        "id": "WYvP5pTcE6uT",
        "colab_type": "code",
        "colab": {}
      },
      "source": [
        ""
      ],
      "execution_count": 0,
      "outputs": []
    }
  ]
}